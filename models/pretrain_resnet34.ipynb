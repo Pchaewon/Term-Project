{
  "nbformat": 4,
  "nbformat_minor": 0,
  "metadata": {
    "colab": {
      "name": "pretrain_resnet34",
      "provenance": [],
      "collapsed_sections": []
    },
    "kernelspec": {
      "name": "python3",
      "display_name": "Python 3"
    },
    "language_info": {
      "name": "python"
    },
    "accelerator": "GPU",
    "widgets": {
      "application/vnd.jupyter.widget-state+json": {
        "b9600c6e80b84e14b4c490f041732665": {
          "model_module": "@jupyter-widgets/controls",
          "model_name": "HBoxModel",
          "model_module_version": "1.5.0",
          "state": {
            "_dom_classes": [],
            "_model_module": "@jupyter-widgets/controls",
            "_model_module_version": "1.5.0",
            "_model_name": "HBoxModel",
            "_view_count": null,
            "_view_module": "@jupyter-widgets/controls",
            "_view_module_version": "1.5.0",
            "_view_name": "HBoxView",
            "box_style": "",
            "children": [
              "IPY_MODEL_50953102706f447b84d3e85df02601a9",
              "IPY_MODEL_b4260f03a77c486cb925d16fb29155cc",
              "IPY_MODEL_37e83e9c6096438db921bc707e63a53b"
            ],
            "layout": "IPY_MODEL_0681ff0d62294f6685e5363511ac5478"
          }
        },
        "50953102706f447b84d3e85df02601a9": {
          "model_module": "@jupyter-widgets/controls",
          "model_name": "HTMLModel",
          "model_module_version": "1.5.0",
          "state": {
            "_dom_classes": [],
            "_model_module": "@jupyter-widgets/controls",
            "_model_module_version": "1.5.0",
            "_model_name": "HTMLModel",
            "_view_count": null,
            "_view_module": "@jupyter-widgets/controls",
            "_view_module_version": "1.5.0",
            "_view_name": "HTMLView",
            "description": "",
            "description_tooltip": null,
            "layout": "IPY_MODEL_d7c66dab20624516846424012affe704",
            "placeholder": "​",
            "style": "IPY_MODEL_b08903e7cb664733ace26085e817c365",
            "value": ""
          }
        },
        "b4260f03a77c486cb925d16fb29155cc": {
          "model_module": "@jupyter-widgets/controls",
          "model_name": "FloatProgressModel",
          "model_module_version": "1.5.0",
          "state": {
            "_dom_classes": [],
            "_model_module": "@jupyter-widgets/controls",
            "_model_module_version": "1.5.0",
            "_model_name": "FloatProgressModel",
            "_view_count": null,
            "_view_module": "@jupyter-widgets/controls",
            "_view_module_version": "1.5.0",
            "_view_name": "ProgressView",
            "bar_style": "success",
            "description": "",
            "description_tooltip": null,
            "layout": "IPY_MODEL_c715a1f44d424b4a8b2f668a46e91fcf",
            "max": 170498071,
            "min": 0,
            "orientation": "horizontal",
            "style": "IPY_MODEL_b8dcf7ba07ee4f1aa2c5a2dbc96ba539",
            "value": 170498071
          }
        },
        "37e83e9c6096438db921bc707e63a53b": {
          "model_module": "@jupyter-widgets/controls",
          "model_name": "HTMLModel",
          "model_module_version": "1.5.0",
          "state": {
            "_dom_classes": [],
            "_model_module": "@jupyter-widgets/controls",
            "_model_module_version": "1.5.0",
            "_model_name": "HTMLModel",
            "_view_count": null,
            "_view_module": "@jupyter-widgets/controls",
            "_view_module_version": "1.5.0",
            "_view_name": "HTMLView",
            "description": "",
            "description_tooltip": null,
            "layout": "IPY_MODEL_6e4d8704960043a8973da648d888ef0b",
            "placeholder": "​",
            "style": "IPY_MODEL_a5e54001a7b746f99ecbc53a7e180482",
            "value": " 170499072/? [00:03&lt;00:00, 53676853.23it/s]"
          }
        },
        "0681ff0d62294f6685e5363511ac5478": {
          "model_module": "@jupyter-widgets/base",
          "model_name": "LayoutModel",
          "model_module_version": "1.2.0",
          "state": {
            "_model_module": "@jupyter-widgets/base",
            "_model_module_version": "1.2.0",
            "_model_name": "LayoutModel",
            "_view_count": null,
            "_view_module": "@jupyter-widgets/base",
            "_view_module_version": "1.2.0",
            "_view_name": "LayoutView",
            "align_content": null,
            "align_items": null,
            "align_self": null,
            "border": null,
            "bottom": null,
            "display": null,
            "flex": null,
            "flex_flow": null,
            "grid_area": null,
            "grid_auto_columns": null,
            "grid_auto_flow": null,
            "grid_auto_rows": null,
            "grid_column": null,
            "grid_gap": null,
            "grid_row": null,
            "grid_template_areas": null,
            "grid_template_columns": null,
            "grid_template_rows": null,
            "height": null,
            "justify_content": null,
            "justify_items": null,
            "left": null,
            "margin": null,
            "max_height": null,
            "max_width": null,
            "min_height": null,
            "min_width": null,
            "object_fit": null,
            "object_position": null,
            "order": null,
            "overflow": null,
            "overflow_x": null,
            "overflow_y": null,
            "padding": null,
            "right": null,
            "top": null,
            "visibility": null,
            "width": null
          }
        },
        "d7c66dab20624516846424012affe704": {
          "model_module": "@jupyter-widgets/base",
          "model_name": "LayoutModel",
          "model_module_version": "1.2.0",
          "state": {
            "_model_module": "@jupyter-widgets/base",
            "_model_module_version": "1.2.0",
            "_model_name": "LayoutModel",
            "_view_count": null,
            "_view_module": "@jupyter-widgets/base",
            "_view_module_version": "1.2.0",
            "_view_name": "LayoutView",
            "align_content": null,
            "align_items": null,
            "align_self": null,
            "border": null,
            "bottom": null,
            "display": null,
            "flex": null,
            "flex_flow": null,
            "grid_area": null,
            "grid_auto_columns": null,
            "grid_auto_flow": null,
            "grid_auto_rows": null,
            "grid_column": null,
            "grid_gap": null,
            "grid_row": null,
            "grid_template_areas": null,
            "grid_template_columns": null,
            "grid_template_rows": null,
            "height": null,
            "justify_content": null,
            "justify_items": null,
            "left": null,
            "margin": null,
            "max_height": null,
            "max_width": null,
            "min_height": null,
            "min_width": null,
            "object_fit": null,
            "object_position": null,
            "order": null,
            "overflow": null,
            "overflow_x": null,
            "overflow_y": null,
            "padding": null,
            "right": null,
            "top": null,
            "visibility": null,
            "width": null
          }
        },
        "b08903e7cb664733ace26085e817c365": {
          "model_module": "@jupyter-widgets/controls",
          "model_name": "DescriptionStyleModel",
          "model_module_version": "1.5.0",
          "state": {
            "_model_module": "@jupyter-widgets/controls",
            "_model_module_version": "1.5.0",
            "_model_name": "DescriptionStyleModel",
            "_view_count": null,
            "_view_module": "@jupyter-widgets/base",
            "_view_module_version": "1.2.0",
            "_view_name": "StyleView",
            "description_width": ""
          }
        },
        "c715a1f44d424b4a8b2f668a46e91fcf": {
          "model_module": "@jupyter-widgets/base",
          "model_name": "LayoutModel",
          "model_module_version": "1.2.0",
          "state": {
            "_model_module": "@jupyter-widgets/base",
            "_model_module_version": "1.2.0",
            "_model_name": "LayoutModel",
            "_view_count": null,
            "_view_module": "@jupyter-widgets/base",
            "_view_module_version": "1.2.0",
            "_view_name": "LayoutView",
            "align_content": null,
            "align_items": null,
            "align_self": null,
            "border": null,
            "bottom": null,
            "display": null,
            "flex": null,
            "flex_flow": null,
            "grid_area": null,
            "grid_auto_columns": null,
            "grid_auto_flow": null,
            "grid_auto_rows": null,
            "grid_column": null,
            "grid_gap": null,
            "grid_row": null,
            "grid_template_areas": null,
            "grid_template_columns": null,
            "grid_template_rows": null,
            "height": null,
            "justify_content": null,
            "justify_items": null,
            "left": null,
            "margin": null,
            "max_height": null,
            "max_width": null,
            "min_height": null,
            "min_width": null,
            "object_fit": null,
            "object_position": null,
            "order": null,
            "overflow": null,
            "overflow_x": null,
            "overflow_y": null,
            "padding": null,
            "right": null,
            "top": null,
            "visibility": null,
            "width": null
          }
        },
        "b8dcf7ba07ee4f1aa2c5a2dbc96ba539": {
          "model_module": "@jupyter-widgets/controls",
          "model_name": "ProgressStyleModel",
          "model_module_version": "1.5.0",
          "state": {
            "_model_module": "@jupyter-widgets/controls",
            "_model_module_version": "1.5.0",
            "_model_name": "ProgressStyleModel",
            "_view_count": null,
            "_view_module": "@jupyter-widgets/base",
            "_view_module_version": "1.2.0",
            "_view_name": "StyleView",
            "bar_color": null,
            "description_width": ""
          }
        },
        "6e4d8704960043a8973da648d888ef0b": {
          "model_module": "@jupyter-widgets/base",
          "model_name": "LayoutModel",
          "model_module_version": "1.2.0",
          "state": {
            "_model_module": "@jupyter-widgets/base",
            "_model_module_version": "1.2.0",
            "_model_name": "LayoutModel",
            "_view_count": null,
            "_view_module": "@jupyter-widgets/base",
            "_view_module_version": "1.2.0",
            "_view_name": "LayoutView",
            "align_content": null,
            "align_items": null,
            "align_self": null,
            "border": null,
            "bottom": null,
            "display": null,
            "flex": null,
            "flex_flow": null,
            "grid_area": null,
            "grid_auto_columns": null,
            "grid_auto_flow": null,
            "grid_auto_rows": null,
            "grid_column": null,
            "grid_gap": null,
            "grid_row": null,
            "grid_template_areas": null,
            "grid_template_columns": null,
            "grid_template_rows": null,
            "height": null,
            "justify_content": null,
            "justify_items": null,
            "left": null,
            "margin": null,
            "max_height": null,
            "max_width": null,
            "min_height": null,
            "min_width": null,
            "object_fit": null,
            "object_position": null,
            "order": null,
            "overflow": null,
            "overflow_x": null,
            "overflow_y": null,
            "padding": null,
            "right": null,
            "top": null,
            "visibility": null,
            "width": null
          }
        },
        "a5e54001a7b746f99ecbc53a7e180482": {
          "model_module": "@jupyter-widgets/controls",
          "model_name": "DescriptionStyleModel",
          "model_module_version": "1.5.0",
          "state": {
            "_model_module": "@jupyter-widgets/controls",
            "_model_module_version": "1.5.0",
            "_model_name": "DescriptionStyleModel",
            "_view_count": null,
            "_view_module": "@jupyter-widgets/base",
            "_view_module_version": "1.2.0",
            "_view_name": "StyleView",
            "description_width": ""
          }
        }
      }
    }
  },
  "cells": [
    {
      "cell_type": "code",
      "execution_count": null,
      "metadata": {
        "colab": {
          "base_uri": "https://localhost:8080/",
          "height": 104,
          "referenced_widgets": [
            "b9600c6e80b84e14b4c490f041732665",
            "50953102706f447b84d3e85df02601a9",
            "b4260f03a77c486cb925d16fb29155cc",
            "37e83e9c6096438db921bc707e63a53b",
            "0681ff0d62294f6685e5363511ac5478",
            "d7c66dab20624516846424012affe704",
            "b08903e7cb664733ace26085e817c365",
            "c715a1f44d424b4a8b2f668a46e91fcf",
            "b8dcf7ba07ee4f1aa2c5a2dbc96ba539",
            "6e4d8704960043a8973da648d888ef0b",
            "a5e54001a7b746f99ecbc53a7e180482"
          ]
        },
        "id": "iEMWKc5MYnIh",
        "outputId": "7a2f7fe9-7174-4976-95fc-31d6370e4444"
      },
      "outputs": [
        {
          "output_type": "stream",
          "name": "stdout",
          "text": [
            "Downloading https://www.cs.toronto.edu/~kriz/cifar-10-python.tar.gz to ./data/cifar-10-python.tar.gz\n"
          ]
        },
        {
          "output_type": "display_data",
          "data": {
            "text/plain": [
              "  0%|          | 0/170498071 [00:00<?, ?it/s]"
            ],
            "application/vnd.jupyter.widget-view+json": {
              "version_major": 2,
              "version_minor": 0,
              "model_id": "b9600c6e80b84e14b4c490f041732665"
            }
          },
          "metadata": {}
        },
        {
          "output_type": "stream",
          "name": "stdout",
          "text": [
            "Extracting ./data/cifar-10-python.tar.gz to ./data\n",
            "Files already downloaded and verified\n"
          ]
        }
      ],
      "source": [
        "import torchvision\n",
        "import torch\n",
        "import torchvision\n",
        "\n",
        "transform_train = torchvision.transforms.Compose([\n",
        "        torchvision.transforms.Resize((224,224)),\n",
        "        torchvision.transforms.AutoAugment(policy=torchvision.transforms.AutoAugmentPolicy.CIFAR10),\n",
        "        torchvision.transforms.ToTensor(),\n",
        "        torchvision.transforms.Normalize((0.485,0.456,0.406),(0.229,0.224,0.225))\n",
        "    ])\n",
        "\n",
        "\n",
        "transform_test = torchvision.transforms.Compose([\n",
        "        torchvision.transforms.Resize((224,224)),\n",
        "        torchvision.transforms.ToTensor(),\n",
        "        torchvision.transforms.Normalize((0.485,0.456,0.406),(0.229,0.224,0.225))\n",
        "    ])\n",
        "\n",
        "\n",
        "train_dataset = torchvision.datasets.CIFAR10(root='./data', train=True, download=True, transform=transform_train)\n",
        "test_dataset = torchvision.datasets.CIFAR10(root='./data', train=False, download=True, transform=transform_test)\n",
        "\n"
      ]
    },
    {
      "cell_type": "code",
      "source": [
        "# 훈련 데이터\n",
        "print(train_dataset.data.shape, len(train_dataset.targets))\n",
        "#print(train_dataset.targets)\n",
        "\n",
        "# 테스트 데이터\n",
        "print(test_dataset.data.shape, len(test_dataset.targets))\n",
        "#print(test_dataset.targets)\n",
        "\n",
        "train_loader = torch.utils.data.DataLoader(train_dataset, batch_size=100, shuffle=True, num_workers=0)\n",
        "test_loader = torch.utils.data.DataLoader(test_dataset, batch_size=100, shuffle=False, num_workers=0)\n",
        "\n",
        "print('CIFAR10 ready~')\n",
        "\n",
        "# CUDA setting\n",
        "USE_CUDA = torch.cuda.is_available()\n",
        "DEVICE = torch.device(\"cuda\" if USE_CUDA else \"cpu\")\n",
        "print(DEVICE)"
      ],
      "metadata": {
        "colab": {
          "base_uri": "https://localhost:8080/"
        },
        "id": "5S_naMfBYvYM",
        "outputId": "fa426a93-fcf8-49e9-a307-32fb863477b9"
      },
      "execution_count": null,
      "outputs": [
        {
          "output_type": "stream",
          "name": "stdout",
          "text": [
            "(50000, 32, 32, 3) 50000\n",
            "(10000, 32, 32, 3) 10000\n",
            "CIFAR10 ready~\n",
            "cuda\n"
          ]
        }
      ]
    },
    {
      "cell_type": "code",
      "source": [
        "from torch import nn, optim\n",
        "import torchvision\n",
        "\n",
        "\n",
        "net = torchvision.models.resnet34(pretrained = True)\n",
        "print(net)\n",
        "\n",
        "# in_features확인 하고 학습 돌리기\n",
        "num_fc_in = net.fc.in_features\n",
        "print(num_fc_in)"
      ],
      "metadata": {
        "colab": {
          "base_uri": "https://localhost:8080/"
        },
        "id": "3BW2czC5axX4",
        "outputId": "105e3650-99eb-460d-8d17-84ff953c35e1"
      },
      "execution_count": null,
      "outputs": [
        {
          "output_type": "stream",
          "name": "stdout",
          "text": [
            "ResNet(\n",
            "  (conv1): Conv2d(3, 64, kernel_size=(7, 7), stride=(2, 2), padding=(3, 3), bias=False)\n",
            "  (bn1): BatchNorm2d(64, eps=1e-05, momentum=0.1, affine=True, track_running_stats=True)\n",
            "  (relu): ReLU(inplace=True)\n",
            "  (maxpool): MaxPool2d(kernel_size=3, stride=2, padding=1, dilation=1, ceil_mode=False)\n",
            "  (layer1): Sequential(\n",
            "    (0): BasicBlock(\n",
            "      (conv1): Conv2d(64, 64, kernel_size=(3, 3), stride=(1, 1), padding=(1, 1), bias=False)\n",
            "      (bn1): BatchNorm2d(64, eps=1e-05, momentum=0.1, affine=True, track_running_stats=True)\n",
            "      (relu): ReLU(inplace=True)\n",
            "      (conv2): Conv2d(64, 64, kernel_size=(3, 3), stride=(1, 1), padding=(1, 1), bias=False)\n",
            "      (bn2): BatchNorm2d(64, eps=1e-05, momentum=0.1, affine=True, track_running_stats=True)\n",
            "    )\n",
            "    (1): BasicBlock(\n",
            "      (conv1): Conv2d(64, 64, kernel_size=(3, 3), stride=(1, 1), padding=(1, 1), bias=False)\n",
            "      (bn1): BatchNorm2d(64, eps=1e-05, momentum=0.1, affine=True, track_running_stats=True)\n",
            "      (relu): ReLU(inplace=True)\n",
            "      (conv2): Conv2d(64, 64, kernel_size=(3, 3), stride=(1, 1), padding=(1, 1), bias=False)\n",
            "      (bn2): BatchNorm2d(64, eps=1e-05, momentum=0.1, affine=True, track_running_stats=True)\n",
            "    )\n",
            "    (2): BasicBlock(\n",
            "      (conv1): Conv2d(64, 64, kernel_size=(3, 3), stride=(1, 1), padding=(1, 1), bias=False)\n",
            "      (bn1): BatchNorm2d(64, eps=1e-05, momentum=0.1, affine=True, track_running_stats=True)\n",
            "      (relu): ReLU(inplace=True)\n",
            "      (conv2): Conv2d(64, 64, kernel_size=(3, 3), stride=(1, 1), padding=(1, 1), bias=False)\n",
            "      (bn2): BatchNorm2d(64, eps=1e-05, momentum=0.1, affine=True, track_running_stats=True)\n",
            "    )\n",
            "  )\n",
            "  (layer2): Sequential(\n",
            "    (0): BasicBlock(\n",
            "      (conv1): Conv2d(64, 128, kernel_size=(3, 3), stride=(2, 2), padding=(1, 1), bias=False)\n",
            "      (bn1): BatchNorm2d(128, eps=1e-05, momentum=0.1, affine=True, track_running_stats=True)\n",
            "      (relu): ReLU(inplace=True)\n",
            "      (conv2): Conv2d(128, 128, kernel_size=(3, 3), stride=(1, 1), padding=(1, 1), bias=False)\n",
            "      (bn2): BatchNorm2d(128, eps=1e-05, momentum=0.1, affine=True, track_running_stats=True)\n",
            "      (downsample): Sequential(\n",
            "        (0): Conv2d(64, 128, kernel_size=(1, 1), stride=(2, 2), bias=False)\n",
            "        (1): BatchNorm2d(128, eps=1e-05, momentum=0.1, affine=True, track_running_stats=True)\n",
            "      )\n",
            "    )\n",
            "    (1): BasicBlock(\n",
            "      (conv1): Conv2d(128, 128, kernel_size=(3, 3), stride=(1, 1), padding=(1, 1), bias=False)\n",
            "      (bn1): BatchNorm2d(128, eps=1e-05, momentum=0.1, affine=True, track_running_stats=True)\n",
            "      (relu): ReLU(inplace=True)\n",
            "      (conv2): Conv2d(128, 128, kernel_size=(3, 3), stride=(1, 1), padding=(1, 1), bias=False)\n",
            "      (bn2): BatchNorm2d(128, eps=1e-05, momentum=0.1, affine=True, track_running_stats=True)\n",
            "    )\n",
            "    (2): BasicBlock(\n",
            "      (conv1): Conv2d(128, 128, kernel_size=(3, 3), stride=(1, 1), padding=(1, 1), bias=False)\n",
            "      (bn1): BatchNorm2d(128, eps=1e-05, momentum=0.1, affine=True, track_running_stats=True)\n",
            "      (relu): ReLU(inplace=True)\n",
            "      (conv2): Conv2d(128, 128, kernel_size=(3, 3), stride=(1, 1), padding=(1, 1), bias=False)\n",
            "      (bn2): BatchNorm2d(128, eps=1e-05, momentum=0.1, affine=True, track_running_stats=True)\n",
            "    )\n",
            "    (3): BasicBlock(\n",
            "      (conv1): Conv2d(128, 128, kernel_size=(3, 3), stride=(1, 1), padding=(1, 1), bias=False)\n",
            "      (bn1): BatchNorm2d(128, eps=1e-05, momentum=0.1, affine=True, track_running_stats=True)\n",
            "      (relu): ReLU(inplace=True)\n",
            "      (conv2): Conv2d(128, 128, kernel_size=(3, 3), stride=(1, 1), padding=(1, 1), bias=False)\n",
            "      (bn2): BatchNorm2d(128, eps=1e-05, momentum=0.1, affine=True, track_running_stats=True)\n",
            "    )\n",
            "  )\n",
            "  (layer3): Sequential(\n",
            "    (0): BasicBlock(\n",
            "      (conv1): Conv2d(128, 256, kernel_size=(3, 3), stride=(2, 2), padding=(1, 1), bias=False)\n",
            "      (bn1): BatchNorm2d(256, eps=1e-05, momentum=0.1, affine=True, track_running_stats=True)\n",
            "      (relu): ReLU(inplace=True)\n",
            "      (conv2): Conv2d(256, 256, kernel_size=(3, 3), stride=(1, 1), padding=(1, 1), bias=False)\n",
            "      (bn2): BatchNorm2d(256, eps=1e-05, momentum=0.1, affine=True, track_running_stats=True)\n",
            "      (downsample): Sequential(\n",
            "        (0): Conv2d(128, 256, kernel_size=(1, 1), stride=(2, 2), bias=False)\n",
            "        (1): BatchNorm2d(256, eps=1e-05, momentum=0.1, affine=True, track_running_stats=True)\n",
            "      )\n",
            "    )\n",
            "    (1): BasicBlock(\n",
            "      (conv1): Conv2d(256, 256, kernel_size=(3, 3), stride=(1, 1), padding=(1, 1), bias=False)\n",
            "      (bn1): BatchNorm2d(256, eps=1e-05, momentum=0.1, affine=True, track_running_stats=True)\n",
            "      (relu): ReLU(inplace=True)\n",
            "      (conv2): Conv2d(256, 256, kernel_size=(3, 3), stride=(1, 1), padding=(1, 1), bias=False)\n",
            "      (bn2): BatchNorm2d(256, eps=1e-05, momentum=0.1, affine=True, track_running_stats=True)\n",
            "    )\n",
            "    (2): BasicBlock(\n",
            "      (conv1): Conv2d(256, 256, kernel_size=(3, 3), stride=(1, 1), padding=(1, 1), bias=False)\n",
            "      (bn1): BatchNorm2d(256, eps=1e-05, momentum=0.1, affine=True, track_running_stats=True)\n",
            "      (relu): ReLU(inplace=True)\n",
            "      (conv2): Conv2d(256, 256, kernel_size=(3, 3), stride=(1, 1), padding=(1, 1), bias=False)\n",
            "      (bn2): BatchNorm2d(256, eps=1e-05, momentum=0.1, affine=True, track_running_stats=True)\n",
            "    )\n",
            "    (3): BasicBlock(\n",
            "      (conv1): Conv2d(256, 256, kernel_size=(3, 3), stride=(1, 1), padding=(1, 1), bias=False)\n",
            "      (bn1): BatchNorm2d(256, eps=1e-05, momentum=0.1, affine=True, track_running_stats=True)\n",
            "      (relu): ReLU(inplace=True)\n",
            "      (conv2): Conv2d(256, 256, kernel_size=(3, 3), stride=(1, 1), padding=(1, 1), bias=False)\n",
            "      (bn2): BatchNorm2d(256, eps=1e-05, momentum=0.1, affine=True, track_running_stats=True)\n",
            "    )\n",
            "    (4): BasicBlock(\n",
            "      (conv1): Conv2d(256, 256, kernel_size=(3, 3), stride=(1, 1), padding=(1, 1), bias=False)\n",
            "      (bn1): BatchNorm2d(256, eps=1e-05, momentum=0.1, affine=True, track_running_stats=True)\n",
            "      (relu): ReLU(inplace=True)\n",
            "      (conv2): Conv2d(256, 256, kernel_size=(3, 3), stride=(1, 1), padding=(1, 1), bias=False)\n",
            "      (bn2): BatchNorm2d(256, eps=1e-05, momentum=0.1, affine=True, track_running_stats=True)\n",
            "    )\n",
            "    (5): BasicBlock(\n",
            "      (conv1): Conv2d(256, 256, kernel_size=(3, 3), stride=(1, 1), padding=(1, 1), bias=False)\n",
            "      (bn1): BatchNorm2d(256, eps=1e-05, momentum=0.1, affine=True, track_running_stats=True)\n",
            "      (relu): ReLU(inplace=True)\n",
            "      (conv2): Conv2d(256, 256, kernel_size=(3, 3), stride=(1, 1), padding=(1, 1), bias=False)\n",
            "      (bn2): BatchNorm2d(256, eps=1e-05, momentum=0.1, affine=True, track_running_stats=True)\n",
            "    )\n",
            "  )\n",
            "  (layer4): Sequential(\n",
            "    (0): BasicBlock(\n",
            "      (conv1): Conv2d(256, 512, kernel_size=(3, 3), stride=(2, 2), padding=(1, 1), bias=False)\n",
            "      (bn1): BatchNorm2d(512, eps=1e-05, momentum=0.1, affine=True, track_running_stats=True)\n",
            "      (relu): ReLU(inplace=True)\n",
            "      (conv2): Conv2d(512, 512, kernel_size=(3, 3), stride=(1, 1), padding=(1, 1), bias=False)\n",
            "      (bn2): BatchNorm2d(512, eps=1e-05, momentum=0.1, affine=True, track_running_stats=True)\n",
            "      (downsample): Sequential(\n",
            "        (0): Conv2d(256, 512, kernel_size=(1, 1), stride=(2, 2), bias=False)\n",
            "        (1): BatchNorm2d(512, eps=1e-05, momentum=0.1, affine=True, track_running_stats=True)\n",
            "      )\n",
            "    )\n",
            "    (1): BasicBlock(\n",
            "      (conv1): Conv2d(512, 512, kernel_size=(3, 3), stride=(1, 1), padding=(1, 1), bias=False)\n",
            "      (bn1): BatchNorm2d(512, eps=1e-05, momentum=0.1, affine=True, track_running_stats=True)\n",
            "      (relu): ReLU(inplace=True)\n",
            "      (conv2): Conv2d(512, 512, kernel_size=(3, 3), stride=(1, 1), padding=(1, 1), bias=False)\n",
            "      (bn2): BatchNorm2d(512, eps=1e-05, momentum=0.1, affine=True, track_running_stats=True)\n",
            "    )\n",
            "    (2): BasicBlock(\n",
            "      (conv1): Conv2d(512, 512, kernel_size=(3, 3), stride=(1, 1), padding=(1, 1), bias=False)\n",
            "      (bn1): BatchNorm2d(512, eps=1e-05, momentum=0.1, affine=True, track_running_stats=True)\n",
            "      (relu): ReLU(inplace=True)\n",
            "      (conv2): Conv2d(512, 512, kernel_size=(3, 3), stride=(1, 1), padding=(1, 1), bias=False)\n",
            "      (bn2): BatchNorm2d(512, eps=1e-05, momentum=0.1, affine=True, track_running_stats=True)\n",
            "    )\n",
            "  )\n",
            "  (avgpool): AdaptiveAvgPool2d(output_size=(1, 1))\n",
            "  (fc): Linear(in_features=512, out_features=1000, bias=True)\n",
            ")\n",
            "512\n"
          ]
        }
      ]
    },
    {
      "cell_type": "code",
      "source": [
        "# fc층 구축\n",
        "net.classifier = nn.Sequential(\n",
        "  nn.Linear(num_fc_in, 256),\n",
        "  nn.BatchNorm1d(256),\n",
        "  nn.ReLU(),\n",
        "  nn.Linear(256, 10)\n",
        ")"
      ],
      "metadata": {
        "id": "pd6V1EZlbTgX"
      },
      "execution_count": null,
      "outputs": []
    },
    {
      "cell_type": "code",
      "source": [
        "# net to CUDA\n",
        "net.to(DEVICE)\n",
        "\n",
        "# Adam optimizer\n",
        "optimizer = torch.optim.Adam(net.parameters(), lr=1e-4)\n",
        "\n",
        "# CrossEntropyLoss\n",
        "loss_fn = nn.CrossEntropyLoss()\n",
        "file_name = 'pretraned_effi_b7.pth'# 학습이 진행됨에 따라 이러한 이름으로 모델이 저장되도록 설정\n",
        "\n"
      ],
      "metadata": {
        "id": "98cn3cwhcuAK"
      },
      "execution_count": null,
      "outputs": []
    },
    {
      "cell_type": "code",
      "source": [
        "import numpy as np\n",
        "import matplotlib.pyplot as plt\n"
      ],
      "metadata": {
        "id": "SPPxLo6xc88I"
      },
      "execution_count": null,
      "outputs": []
    },
    {
      "cell_type": "code",
      "source": [
        "# 손실 함수 로그\n",
        "train_losses = []\n",
        "train_acces = []\n",
        "valid_losses = []\n",
        "valid_accses = []\n",
        "\n",
        "# 100회 반복\n",
        "for epoch in range(30):\n",
        "  total_train_loss = 0\n",
        "  total_train_batch = 0\n",
        "  total_train_acc = np.array([])\n",
        "  total_valid_loss = 0\n",
        "  total_valid_batch = 0\n",
        "  total_valid_acc = np.array([])\n",
        "\n",
        "  # train\n",
        "  net.train()\n",
        "  for X, y in train_loader:\n",
        "    # data to CUDA\n",
        "    X, y = X.to(DEVICE), y.to(DEVICE)\n",
        "\n",
        "    # 전회의 backward 메서드로 계산된 경사 값을 초기화\n",
        "    optimizer.zero_grad()\n",
        "\n",
        "    # y 예측 값을 계산\n",
        "    y_pred = net(X)\n",
        "\n",
        "    # CrossEntropyLoss 계산\n",
        "    loss = loss_fn(y_pred, y)\n",
        "\n",
        "    # loss의 w를 사용한 미분 계산\n",
        "    loss.backward()\n",
        "    optimizer.step()\n",
        "\n",
        "    # Accuracy 계산\n",
        "    est = np.argmax(y_pred.cpu().detach().numpy(), axis = 1)\n",
        "    ans = y.cpu().numpy()\n",
        "\n",
        "    total_train_acc = np.append(total_train_acc, np.equal(est, ans))\n",
        "    total_train_loss += loss\n",
        "    total_train_batch += 1\n",
        "\n",
        "  # validataion\n",
        "  net.eval()\n",
        "  with torch.no_grad():\n",
        "    for X, y in test_loader:\n",
        "      # data to CUDA\n",
        "      X, y = X.to(DEVICE), y.to(DEVICE)\n",
        "\n",
        "      # y 예측 값을 계산\n",
        "      y_pred = net(X)\n",
        "\n",
        "      # CrossEntropyLoss 계산\n",
        "      loss = loss_fn(y_pred, y)\n",
        "\n",
        "      # Accuracy 계산\n",
        "      est = np.argmax(y_pred.cpu().detach().numpy(), axis = 1)\n",
        "      ans = y.cpu().numpy()\n",
        "\n",
        "      total_valid_acc = np.append(total_valid_acc, np.equal(est, ans))\n",
        "      total_valid_loss += loss\n",
        "      total_valid_batch += 1\n",
        "   \n",
        "  print('Epoch:%03d' % (epoch + 1), '- train loss:', '{:.4f}'.format(total_train_loss/total_train_batch),\n",
        "        'acc:', '{:.4f}'.format(np.mean(total_train_acc)),\n",
        "        '- valid loss:', '{:.4f}'.format(total_valid_loss/total_valid_batch),\n",
        "        'acc:', '{:.4f}'.format(np.mean(total_valid_acc)))\n",
        "\n",
        "  # loss 기록\n",
        "  train_losses.append(total_train_loss/total_train_batch)\n",
        "  train_los = []\n",
        "  for x in train_losses:\n",
        "      train_los.append(x.cpu().detach())\n",
        "  train_acces.append(np.mean(total_train_acc))\n",
        "  valid_losses.append(total_valid_loss/total_valid_batch)\n",
        "  val_los = []\n",
        "  for x in valid_losses:\n",
        "      val_los.append(x.cpu().detach())\n",
        "  valid_accses.append(np.mean(total_valid_acc))\n",
        "\n",
        "print('Learning finished')"
      ],
      "metadata": {
        "colab": {
          "base_uri": "https://localhost:8080/"
        },
        "id": "roV-GmDsc0cA",
        "outputId": "daa83766-e6a4-464e-cbe4-fe2272b3946e"
      },
      "execution_count": null,
      "outputs": [
        {
          "output_type": "stream",
          "name": "stdout",
          "text": [
            "Epoch:001 - train loss: 0.6806 acc: 0.8252 - valid loss: 0.1663 acc: 0.9430\n",
            "Epoch:002 - train loss: 0.2493 acc: 0.9154 - valid loss: 0.1467 acc: 0.9490\n",
            "Epoch:003 - train loss: 0.1922 acc: 0.9352 - valid loss: 0.1386 acc: 0.9537\n",
            "Epoch:004 - train loss: 0.1661 acc: 0.9432 - valid loss: 0.1343 acc: 0.9554\n",
            "Epoch:005 - train loss: 0.1453 acc: 0.9501 - valid loss: 0.1545 acc: 0.9507\n",
            "Epoch:006 - train loss: 0.1356 acc: 0.9535 - valid loss: 0.1493 acc: 0.9568\n",
            "Epoch:007 - train loss: 0.1236 acc: 0.9573 - valid loss: 0.1363 acc: 0.9574\n",
            "Epoch:008 - train loss: 0.1211 acc: 0.9587 - valid loss: 0.1426 acc: 0.9575\n",
            "Epoch:009 - train loss: 0.1121 acc: 0.9615 - valid loss: 0.1285 acc: 0.9610\n",
            "Epoch:010 - train loss: 0.1031 acc: 0.9643 - valid loss: 0.1529 acc: 0.9578\n",
            "Epoch:011 - train loss: 0.1031 acc: 0.9655 - valid loss: 0.1449 acc: 0.9579\n",
            "Epoch:012 - train loss: 0.1023 acc: 0.9654 - valid loss: 0.1428 acc: 0.9558\n",
            "Epoch:013 - train loss: 0.0920 acc: 0.9689 - valid loss: 0.1650 acc: 0.9522\n",
            "Epoch:014 - train loss: 0.0930 acc: 0.9682 - valid loss: 0.1430 acc: 0.9590\n",
            "Epoch:015 - train loss: 0.0903 acc: 0.9690 - valid loss: 0.1669 acc: 0.9527\n",
            "Epoch:016 - train loss: 0.0910 acc: 0.9698 - valid loss: 0.1490 acc: 0.9597\n",
            "Epoch:017 - train loss: 0.0877 acc: 0.9695 - valid loss: 0.1470 acc: 0.9593\n",
            "Epoch:018 - train loss: 0.0826 acc: 0.9715 - valid loss: 0.1363 acc: 0.9614\n",
            "Epoch:019 - train loss: 0.0798 acc: 0.9724 - valid loss: 0.1398 acc: 0.9623\n",
            "Epoch:020 - train loss: 0.0821 acc: 0.9726 - valid loss: 0.1565 acc: 0.9534\n",
            "Epoch:021 - train loss: 0.0780 acc: 0.9734 - valid loss: 0.1552 acc: 0.9581\n",
            "Epoch:022 - train loss: 0.0737 acc: 0.9747 - valid loss: 0.1650 acc: 0.9559\n",
            "Epoch:023 - train loss: 0.0760 acc: 0.9732 - valid loss: 0.1508 acc: 0.9587\n",
            "Epoch:024 - train loss: 0.0720 acc: 0.9752 - valid loss: 0.1713 acc: 0.9560\n",
            "Epoch:025 - train loss: 0.0737 acc: 0.9753 - valid loss: 0.1750 acc: 0.9565\n",
            "Epoch:026 - train loss: 0.0735 acc: 0.9752 - valid loss: 0.1406 acc: 0.9598\n",
            "Epoch:027 - train loss: 0.0714 acc: 0.9754 - valid loss: 0.1580 acc: 0.9572\n",
            "Epoch:028 - train loss: 0.0676 acc: 0.9766 - valid loss: 0.1606 acc: 0.9602\n",
            "Epoch:029 - train loss: 0.0711 acc: 0.9752 - valid loss: 0.1771 acc: 0.9547\n",
            "Epoch:030 - train loss: 0.0675 acc: 0.9777 - valid loss: 0.1885 acc: 0.9534\n",
            "Learning finished\n"
          ]
        }
      ]
    },
    {
      "cell_type": "code",
      "source": [
        "# loss/acc graph 그리기\n",
        "import matplotlib.pyplot as plt\n",
        "\n",
        "epochs = range(1, len(train_los)+1)\n",
        "fig = plt.figure(figsize=(10,5))\n",
        "\n",
        "# 첫번째 열\n",
        "ax1 = fig.add_subplot(1,2,1) \n",
        "ax1.plot(epochs, train_los, color ='blue', label='train_loss')\n",
        "ax1.plot(epochs, val_los, color = 'orange', label = 'val_loss')\n",
        "ax1.set_title('train and val loss')\n",
        "ax1.set_xlabel('epochs')\n",
        "ax1.set_ylabel('loss')          \n",
        "ax1.legend()\n",
        "\n",
        "# 훈련 및 검증 정확도 그리기\n",
        "ax2 = fig.add_subplot(1, 2, 2)\n",
        "ax2.plot(epochs, train_acces, color = 'blue', label = 'train_acc')\n",
        "ax2.plot(epochs, valid_accses, color = 'orange', label = 'val_acc')\n",
        "ax2.set_title('train and val acc')\n",
        "ax2.set_xlabel('epochs')\n",
        "ax2.set_ylabel('acc')\n",
        "ax2.legend()"
      ],
      "metadata": {
        "colab": {
          "base_uri": "https://localhost:8080/",
          "height": 368
        },
        "id": "t8R413NLdHk2",
        "outputId": "1d5c236d-6446-4214-8a52-36a727092cd6"
      },
      "execution_count": null,
      "outputs": [
        {
          "output_type": "execute_result",
          "data": {
            "text/plain": [
              "<matplotlib.legend.Legend at 0x7f2416f4f350>"
            ]
          },
          "metadata": {},
          "execution_count": 22
        },
        {
          "output_type": "display_data",
          "data": {
            "text/plain": [
              "<Figure size 720x360 with 2 Axes>"
            ],
            "image/png": "[encoded data removed]"
          },
          "metadata": {
            "needs_background": "light"
          }
        }
      ]
    },
    {
      "cell_type": "code",
      "source": [
        "PATH = '/content/Untitled Folder'\n",
        "\n",
        "torch.save(net, PATH + 'model.pt')  # 전체 모델 저장\n",
        "torch.save(net.state_dict(), PATH + 'model_state_dict.pt')  # 모델 객체의 state_dict 저장\n",
        "torch.save({\n",
        "    'model': net.state_dict(),\n",
        "    'optimizer': optimizer.state_dict()\n",
        "}, PATH + 'all.tar')"
      ],
      "metadata": {
        "id": "uvv5v2a8eljI"
      },
      "execution_count": null,
      "outputs": []
    },
    {
      "cell_type": "code",
      "source": [
        "model=torch.load('resnet34_model.pt')"
      ],
      "metadata": {
        "id": "2Q9xlh_ID0Kf"
      },
      "execution_count": null,
      "outputs": []
    }
  ]
}